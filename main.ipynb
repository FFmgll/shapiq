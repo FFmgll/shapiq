{
 "cells": [
  {
   "cell_type": "code",
   "execution_count": 10,
   "metadata": {
    "collapsed": true
   },
   "outputs": [],
   "source": [
    "import copy\n",
    "\n",
    "import numpy as np\n",
    "from scipy.special import binom\n",
    "\n",
    "from games import ParameterizedSparseLinearModel\n",
    "from approximators import SHAPIQEstimator, PermutationSampling\n",
    "from approximators.regression import RegressionEstimator"
   ]
  },
  {
   "cell_type": "markdown",
   "source": [
    "### Setup the game\n",
    "Here we use the linear model as we can compute the ground truth interaction values directly from the game."
   ],
   "metadata": {
    "collapsed": false,
    "pycharm": {
     "name": "#%% md\n"
    }
   }
  },
  {
   "cell_type": "code",
   "execution_count": 11,
   "outputs": [],
   "source": [
    "# setup the game function (here we use a\n",
    "game = ParameterizedSparseLinearModel(\n",
    "    n=30, # n of players\n",
    "    weighting_scheme=\"uniform\", # how the interactions should be distributed over the subset sizes\n",
    "    min_interaction_size=1, # min size of interactions in the model\n",
    "    max_interaction_size=20, # max size of interactions in the model\n",
    "    n_interactions=100, # number of interactions in the model\n",
    "    n_non_important_features=3 # number of dummy (zero weight) features, which will also not be part of the interactions\n",
    ")\n",
    "\n",
    "game_name = game.game_name\n",
    "game_fun = game.set_call\n",
    "n = game.n\n",
    "N = set(range(n))"
   ],
   "metadata": {
    "collapsed": false,
    "pycharm": {
     "name": "#%%\n"
    }
   }
  },
  {
   "cell_type": "markdown",
   "source": [
    "### Set up the interaction index\n",
    "The interaction values will be calculated for the order of interactions."
   ],
   "metadata": {
    "collapsed": false,
    "pycharm": {
     "name": "#%% md\n"
    }
   }
  },
  {
   "cell_type": "code",
   "execution_count": 12,
   "outputs": [],
   "source": [
    "interaction_order = 2"
   ],
   "metadata": {
    "collapsed": false,
    "pycharm": {
     "name": "#%%\n"
    }
   }
  },
  {
   "cell_type": "markdown",
   "source": [
    "### Setup the baseline approximators\n",
    "In total there are two approaches for the interaction indices. Permutation sampling is defined for SII and STI. The weighted least-squares approach is defined for FSI."
   ],
   "metadata": {
    "collapsed": false,
    "pycharm": {
     "name": "#%% md\n"
    }
   }
  },
  {
   "cell_type": "code",
   "execution_count": 13,
   "outputs": [],
   "source": [
    "# Permutation Sampling for Shapley Interaction Index\n",
    "shapley_extractor_sii_permutation = PermutationSampling(\n",
    "    N=N,\n",
    "    order=interaction_order,\n",
    "    interaction_type=\"SII\",\n",
    "    top_order=True\n",
    ")\n",
    "\n",
    "# Permutation Sampling for Shapley Taylor Index\n",
    "shapley_extractor_sti_permutation = PermutationSampling(\n",
    "    N=N,\n",
    "    order=interaction_order,\n",
    "    interaction_type=\"STI\",\n",
    "    top_order=True\n",
    ")\n",
    "\n",
    "# Regression Estimator for Shapley Faith Index\n",
    "shapley_extractor_FSI_regression = RegressionEstimator(\n",
    "    N=N,\n",
    "    max_order=interaction_order\n",
    ")\n",
    "\n",
    "baselines = {\n",
    "    \"SII\": shapley_extractor_sii_permutation,\n",
    "    \"STI\": shapley_extractor_sti_permutation,\n",
    "    \"FSI\": shapley_extractor_FSI_regression\n",
    "}"
   ],
   "metadata": {
    "collapsed": false,
    "pycharm": {
     "name": "#%%\n"
    }
   }
  },
  {
   "cell_type": "markdown",
   "source": [
    "### Setup SHAP-IQ approximator\n",
    "SHAP-IQ is defined for all interaction indices that follow a general definition of Shapley interaction (SII, STI, and FSI). For more information we refer to the full paper (the section about SI)."
   ],
   "metadata": {
    "collapsed": false,
    "pycharm": {
     "name": "#%% md\n"
    }
   }
  },
  {
   "cell_type": "code",
   "execution_count": 14,
   "outputs": [],
   "source": [
    "# SHAP-IQ to approximate the Shapley Interaction Index\n",
    "shapley_extractor_sii = SHAPIQEstimator(\n",
    "    N=N,\n",
    "    order=interaction_order,\n",
    "    interaction_type=\"SII\",\n",
    "    top_order=True\n",
    ")\n",
    "\n",
    "# SHAP-IQ to approximate the Shapley Taylor Index\n",
    "shapley_extractor_sti = SHAPIQEstimator(\n",
    "    N=N,\n",
    "    order=interaction_order,\n",
    "    interaction_type=\"STI\",\n",
    "    top_order=True\n",
    ")\n",
    "\n",
    "# SHAP-IQ to approximate the Shapley Faith Index\n",
    "shapley_extractor_FSI = SHAPIQEstimator(\n",
    "    N=N,\n",
    "    order=interaction_order,\n",
    "    interaction_type=\"FSI\",\n",
    "    top_order=True\n",
    ")\n",
    "\n",
    "approximators = {\n",
    "    \"SII\": shapley_extractor_sii,\n",
    "    \"STI\": shapley_extractor_sti,\n",
    "    \"FSI\": shapley_extractor_FSI\n",
    "}"
   ],
   "metadata": {
    "collapsed": false,
    "pycharm": {
     "name": "#%%\n"
    }
   }
  },
  {
   "cell_type": "markdown",
   "source": [
    "### Run the approximators\n",
    "Run the baseline and SHAP-IQ approximators. Also compute the ground truth interaction values."
   ],
   "metadata": {
    "collapsed": false,
    "pycharm": {
     "name": "#%% md\n"
    }
   }
  },
  {
   "cell_type": "code",
   "execution_count": 15,
   "outputs": [
    {
     "name": "stderr",
     "output_type": "stream",
     "text": [
      "\n",
      "Exact values: pre-computed weights: 100%|██████████| 60/60 [00:00<00:00, 7492.28it/s]\n",
      "\n",
      "Exact values: Final computation: 100%|██████████| 43500/43500.0 [00:00<00:00, 874248.78it/s]\n",
      "\n",
      "Exact values: pre-computed weights: 100%|██████████| 60/60 [00:00<00:00, 7332.27it/s]\n",
      "\n",
      "Exact values: Final computation: 100%|██████████| 43500/43500.0 [00:00<00:00, 877629.85it/s]\n",
      "\n",
      "Exact values: pre-computed weights: 100%|██████████| 60/60 [00:00<00:00, 7338.47it/s]\n",
      "\n",
      "Exact values: Final computation: 100%|██████████| 43500/43500.0 [00:00<00:00, 876318.90it/s]\n",
      "\n",
      "Exact values: pre-computed weights: 100%|██████████| 60/60 [00:00<00:00, 7312.25it/s]\n",
      "\n",
      "Exact values: Final computation: 100%|██████████| 43500/43500.0 [00:00<00:00, 841468.38it/s]\n",
      "\n",
      "Exact values: pre-computed weights: 100%|██████████| 60/60 [00:00<00:00, 8576.43it/s]\n",
      "\n",
      "Exact values: Final computation: 100%|██████████| 43500/43500.0 [00:00<00:00, 825695.23it/s]\n",
      "\n",
      "Exact values: pre-computed weights: 100%|██████████| 60/60 [00:00<00:00, 8306.65it/s]\n",
      "\n",
      "Exact values: Final computation: 100%|██████████| 43500/43500.0 [00:00<00:00, 841918.80it/s]\n"
     ]
    }
   ],
   "source": [
    "budget = 2**14\n",
    "\n",
    "baseline_results = {}\n",
    "shap_iq_results = {}\n",
    "ground_truth_results = {}\n",
    "for interaction_type in {'SII', 'STI', 'FSI'}:\n",
    "    baseline = baselines[interaction_type]\n",
    "    shap_iq = approximators[interaction_type]\n",
    "\n",
    "    # run baseline method\n",
    "    approx_value = baseline.approximate_with_budget(\n",
    "        game_fun, budget\n",
    "    )\n",
    "    baseline_results[interaction_type] = copy.deepcopy(approx_value)\n",
    "\n",
    "    # run shap_iq method\n",
    "    approx_value = shap_iq.compute_interactions_from_budget(\n",
    "        game=game.set_call,\n",
    "        budget=budget\n",
    "    )\n",
    "    shap_iq_results[interaction_type] = copy.deepcopy(approx_value)\n",
    "\n",
    "    # get ground truths (only possible this way with the sparse linear model, otherwise we need to use brute force)\n",
    "    ground_truth_results[interaction_type] = copy.deepcopy(\n",
    "        game.exact_values(\n",
    "            gamma_matrix=shap_iq.weights[interaction_order],\n",
    "            min_order=interaction_order,\n",
    "            max_order=interaction_order\n",
    "        )\n",
    "    )"
   ],
   "metadata": {
    "collapsed": false,
    "pycharm": {
     "name": "#%%\n"
    }
   }
  },
  {
   "cell_type": "code",
   "execution_count": 16,
   "outputs": [],
   "source": [
    "def mse(gt, approx):\n",
    "    return np.sum((approx - gt) ** 2) / binom(n, interaction_order)\n",
    "\n",
    "def mae(gt, approx):\n",
    "    return np.sum(abs(approx - gt)) / binom(n, interaction_order)"
   ],
   "metadata": {
    "collapsed": false,
    "pycharm": {
     "name": "#%%\n"
    }
   }
  },
  {
   "cell_type": "markdown",
   "source": [
    "### Results for SII"
   ],
   "metadata": {
    "collapsed": false,
    "pycharm": {
     "name": "#%% md\n"
    }
   }
  },
  {
   "cell_type": "code",
   "execution_count": 17,
   "outputs": [
    {
     "data": {
      "text/plain": "array([[0.        , 1.23650319, 1.07479209, 1.05632822, 0.86215728,\n        0.9446618 , 1.03340214, 0.88913369, 0.8498577 , 0.8805166 ],\n       [0.        , 0.        , 0.74486269, 1.0310984 , 0.77919746,\n        0.73013863, 1.01863339, 0.86770917, 0.5175948 , 0.93763025],\n       [0.        , 0.        , 0.        , 0.77027028, 0.77482485,\n        0.88655876, 0.93174988, 0.92494576, 0.49018877, 0.8109293 ],\n       [0.        , 0.        , 0.        , 0.        , 0.66626615,\n        0.8260678 , 0.92432102, 1.01415216, 0.698431  , 1.06286796],\n       [0.        , 0.        , 0.        , 0.        , 0.        ,\n        0.58425238, 0.73509963, 0.60408573, 0.54917033, 0.84351996],\n       [0.        , 0.        , 0.        , 0.        , 0.        ,\n        0.        , 0.7493785 , 0.77388202, 0.82047558, 0.50759201],\n       [0.        , 0.        , 0.        , 0.        , 0.        ,\n        0.        , 0.        , 0.9099447 , 0.94495607, 0.81941716],\n       [0.        , 0.        , 0.        , 0.        , 0.        ,\n        0.        , 0.        , 0.        , 0.63908142, 1.07405765],\n       [0.        , 0.        , 0.        , 0.        , 0.        ,\n        0.        , 0.        , 0.        , 0.        , 0.6028315 ],\n       [0.        , 0.        , 0.        , 0.        , 0.        ,\n        0.        , 0.        , 0.        , 0.        , 0.        ]])"
     },
     "execution_count": 17,
     "metadata": {},
     "output_type": "execute_result"
    }
   ],
   "source": [
    "ground_truth = ground_truth_results['SII'][interaction_order]\n",
    "ground_truth[0:10,0:10]"
   ],
   "metadata": {
    "collapsed": false,
    "pycharm": {
     "name": "#%%\n"
    }
   }
  },
  {
   "cell_type": "code",
   "execution_count": 18,
   "outputs": [
    {
     "data": {
      "text/plain": "array([[0.        , 1.31909109, 1.39808051, 0.84555952, 0.74241507,\n        1.02096432, 0.97219863, 0.67994928, 0.68817321, 0.84853506],\n       [0.        , 0.        , 0.86772691, 0.87638678, 0.52947907,\n        0.83012873, 0.95561535, 0.65494701, 0.73001903, 0.91491088],\n       [0.        , 0.        , 0.        , 0.77941076, 0.64953634,\n        1.08944284, 1.06799816, 0.32607804, 0.63745497, 0.57655545],\n       [0.        , 0.        , 0.        , 0.        , 0.65622055,\n        0.816422  , 0.90826287, 0.96240934, 0.31597361, 1.10986421],\n       [0.        , 0.        , 0.        , 0.        , 0.        ,\n        0.7551389 , 0.22724817, 0.74913297, 0.68719454, 1.27239085],\n       [0.        , 0.        , 0.        , 0.        , 0.        ,\n        0.        , 0.66057935, 0.91685942, 0.62835133, 0.41184365],\n       [0.        , 0.        , 0.        , 0.        , 0.        ,\n        0.        , 0.        , 1.06907602, 0.90650573, 0.77312821],\n       [0.        , 0.        , 0.        , 0.        , 0.        ,\n        0.        , 0.        , 0.        , 0.87851408, 1.25357667],\n       [0.        , 0.        , 0.        , 0.        , 0.        ,\n        0.        , 0.        , 0.        , 0.        , 0.61461514],\n       [0.        , 0.        , 0.        , 0.        , 0.        ,\n        0.        , 0.        , 0.        , 0.        , 0.        ]])"
     },
     "execution_count": 18,
     "metadata": {},
     "output_type": "execute_result"
    }
   ],
   "source": [
    "shap_iq_approx = shap_iq_results['SII'][interaction_order]\n",
    "shap_iq_approx[0:10,0:10]"
   ],
   "metadata": {
    "collapsed": false,
    "pycharm": {
     "name": "#%%\n"
    }
   }
  },
  {
   "cell_type": "code",
   "execution_count": 20,
   "outputs": [
    {
     "data": {
      "text/plain": "array([[0.        , 1.34930083, 0.38059255, 0.13545948, 1.79239844,\n        0.13459902, 2.15948525, 0.14697162, 1.52894947, 0.67460588],\n       [0.        , 0.        , 1.10617419, 1.21184839, 0.5119647 ,\n        0.        , 0.16858386, 1.62816078, 0.        , 1.40596464],\n       [0.        , 0.        , 0.        , 0.12978002, 2.08612979,\n        0.        , 2.8633546 , 3.07027763, 1.11649643, 3.07785069],\n       [0.        , 0.        , 0.        , 0.        , 0.67228359,\n        2.09505193, 0.87384828, 0.08886677, 3.12422282, 2.01698577],\n       [0.        , 0.        , 0.        , 0.        , 0.        ,\n        0.66761961, 0.04944379, 0.        , 1.63189271, 0.35350594],\n       [0.        , 0.        , 0.        , 0.        , 0.        ,\n        0.        , 1.8945357 , 1.17836557, 1.88596473, 0.03671737],\n       [0.        , 0.        , 0.        , 0.        , 0.        ,\n        0.        , 0.        , 2.11391735, 0.60256652, 0.07621577],\n       [0.        , 0.        , 0.        , 0.        , 0.        ,\n        0.        , 0.        , 0.        , 0.31736857, 2.03221541],\n       [0.        , 0.        , 0.        , 0.        , 0.        ,\n        0.        , 0.        , 0.        , 0.        , 0.96697953],\n       [0.        , 0.        , 0.        , 0.        , 0.        ,\n        0.        , 0.        , 0.        , 0.        , 0.        ]])"
     },
     "execution_count": 20,
     "metadata": {},
     "output_type": "execute_result"
    }
   ],
   "source": [
    "baseline_approx = baseline_results['SII'][interaction_order]\n",
    "baseline_approx[0:10,0:10]"
   ],
   "metadata": {
    "collapsed": false,
    "pycharm": {
     "name": "#%%\n"
    }
   }
  },
  {
   "cell_type": "code",
   "execution_count": 21,
   "outputs": [
    {
     "name": "stdout",
     "output_type": "stream",
     "text": [
      "average MSE (SHAP-IQ): 0.04115883676512268\n",
      "average MSE (baseline): 0.6971960137361491\n",
      "average MAE (SHAP-IQ): 0.15984924373098103\n",
      "average MAE (baseline-IQ): 0.5931086751047642\n"
     ]
    }
   ],
   "source": [
    "print(\"average MSE (SHAP-IQ):\", mse(ground_truth, shap_iq_approx))\n",
    "print(\"average MSE (baseline):\", mse(ground_truth, baseline_approx))\n",
    "print(\"average MAE (SHAP-IQ):\", mae(ground_truth, shap_iq_approx))\n",
    "print(\"average MAE (baseline-IQ):\", mae(ground_truth, baseline_approx))"
   ],
   "metadata": {
    "collapsed": false,
    "pycharm": {
     "name": "#%%\n"
    }
   }
  },
  {
   "cell_type": "markdown",
   "source": [
    "### Results for STI\n",
    "The tables show only a 10:10 selection as it's easier to render on the browser."
   ],
   "metadata": {
    "collapsed": false,
    "pycharm": {
     "name": "#%% md\n"
    }
   }
  },
  {
   "cell_type": "code",
   "execution_count": 23,
   "outputs": [
    {
     "data": {
      "text/plain": "array([[0.        , 0.25364211, 0.16501766, 0.18063368, 0.14334586,\n        0.15933285, 0.15816146, 0.13829299, 0.12497818, 0.13344251],\n       [0.        , 0.        , 0.09765813, 0.16487622, 0.11123641,\n        0.11047134, 0.15556689, 0.12116054, 0.07010268, 0.13684074],\n       [0.        , 0.        , 0.        , 0.11276116, 0.12220416,\n        0.13138412, 0.13381662, 0.12042494, 0.05704975, 0.10707327],\n       [0.        , 0.        , 0.        , 0.        , 0.09207049,\n        0.12334399, 0.14200411, 0.16128499, 0.10545164, 0.18542799],\n       [0.        , 0.        , 0.        , 0.        , 0.        ,\n        0.09553591, 0.11748126, 0.07928619, 0.08074468, 0.13665937],\n       [0.        , 0.        , 0.        , 0.        , 0.        ,\n        0.        , 0.09596795, 0.09767513, 0.11072452, 0.06194814],\n       [0.        , 0.        , 0.        , 0.        , 0.        ,\n        0.        , 0.        , 0.12175044, 0.14243971, 0.13006958],\n       [0.        , 0.        , 0.        , 0.        , 0.        ,\n        0.        , 0.        , 0.        , 0.08482762, 0.18165529],\n       [0.        , 0.        , 0.        , 0.        , 0.        ,\n        0.        , 0.        , 0.        , 0.        , 0.08801406],\n       [0.        , 0.        , 0.        , 0.        , 0.        ,\n        0.        , 0.        , 0.        , 0.        , 0.        ]])"
     },
     "execution_count": 23,
     "metadata": {},
     "output_type": "execute_result"
    }
   ],
   "source": [
    "ground_truth = ground_truth_results['STI'][interaction_order]\n",
    "ground_truth[0:10,0:10]"
   ],
   "metadata": {
    "collapsed": false,
    "pycharm": {
     "name": "#%%\n"
    }
   }
  },
  {
   "cell_type": "code",
   "execution_count": 24,
   "outputs": [
    {
     "data": {
      "text/plain": "array([[ 0.        ,  0.16847185,  0.18929198,  0.21109203,  0.17205177,\n         0.13903629,  0.2244925 ,  0.12221301,  0.11930438,  0.11887942],\n       [ 0.        ,  0.        ,  0.13409132,  0.28177785,  0.06431715,\n         0.14330756,  0.21200852,  0.109316  ,  0.08039629,  0.21402872],\n       [ 0.        ,  0.        ,  0.        ,  0.06686338,  0.27406434,\n         0.14885208,  0.06236145,  0.10721628, -0.00044986,  0.07138431],\n       [ 0.        ,  0.        ,  0.        ,  0.        ,  0.06974314,\n         0.08096034,  0.17284042,  0.14457847,  0.14633362,  0.24658543],\n       [ 0.        ,  0.        ,  0.        ,  0.        ,  0.        ,\n         0.05864616,  0.0602123 ,  0.0583028 ,  0.09518174,  0.12971862],\n       [ 0.        ,  0.        ,  0.        ,  0.        ,  0.        ,\n         0.        ,  0.14592489,  0.0685213 ,  0.0630305 ,  0.13919349],\n       [ 0.        ,  0.        ,  0.        ,  0.        ,  0.        ,\n         0.        ,  0.        ,  0.09545364,  0.18884148,  0.05087989],\n       [ 0.        ,  0.        ,  0.        ,  0.        ,  0.        ,\n         0.        ,  0.        ,  0.        ,  0.1455812 ,  0.1413804 ],\n       [ 0.        ,  0.        ,  0.        ,  0.        ,  0.        ,\n         0.        ,  0.        ,  0.        ,  0.        ,  0.0909483 ],\n       [ 0.        ,  0.        ,  0.        ,  0.        ,  0.        ,\n         0.        ,  0.        ,  0.        ,  0.        ,  0.        ]])"
     },
     "execution_count": 24,
     "metadata": {},
     "output_type": "execute_result"
    }
   ],
   "source": [
    "shap_iq_approx = shap_iq_results['STI'][interaction_order]\n",
    "shap_iq_approx[0:10,0:10]"
   ],
   "metadata": {
    "collapsed": false,
    "pycharm": {
     "name": "#%%\n"
    }
   }
  },
  {
   "cell_type": "code",
   "execution_count": 25,
   "outputs": [
    {
     "data": {
      "text/plain": "array([[0.00000000e+00, 2.66085921e-01, 0.00000000e+00, 8.84525177e-02,\n        0.00000000e+00, 1.50431459e-01, 3.19864888e-01, 9.73711874e-02,\n        0.00000000e+00, 0.00000000e+00],\n       [0.00000000e+00, 0.00000000e+00, 0.00000000e+00, 1.69313037e-01,\n        0.00000000e+00, 0.00000000e+00, 4.23671248e-01, 6.13649174e-01,\n        1.01382373e-01, 0.00000000e+00],\n       [0.00000000e+00, 0.00000000e+00, 0.00000000e+00, 2.82271917e-01,\n        8.39732575e-02, 8.39732575e-02, 2.05374027e-01, 0.00000000e+00,\n        5.76947806e-02, 0.00000000e+00],\n       [0.00000000e+00, 0.00000000e+00, 0.00000000e+00, 0.00000000e+00,\n        1.54417833e-03, 1.54417833e-03, 1.48044666e+00, 1.25802889e-01,\n        1.13552678e+00, 2.94052305e-01],\n       [0.00000000e+00, 0.00000000e+00, 0.00000000e+00, 0.00000000e+00,\n        0.00000000e+00, 8.55174358e-02, 6.04312964e-02, 1.54417833e-03,\n        9.83072561e-03, 2.02773711e-01],\n       [0.00000000e+00, 0.00000000e+00, 0.00000000e+00, 0.00000000e+00,\n        0.00000000e+00, 0.00000000e+00, 9.36785585e-02, 0.00000000e+00,\n        0.00000000e+00, 0.00000000e+00],\n       [0.00000000e+00, 0.00000000e+00, 0.00000000e+00, 0.00000000e+00,\n        0.00000000e+00, 0.00000000e+00, 0.00000000e+00, 1.94730069e-03,\n        1.67323218e+00, 2.24954992e-01],\n       [0.00000000e+00, 0.00000000e+00, 0.00000000e+00, 0.00000000e+00,\n        0.00000000e+00, 0.00000000e+00, 0.00000000e+00, 0.00000000e+00,\n        7.88703507e-02, 0.00000000e+00],\n       [0.00000000e+00, 0.00000000e+00, 0.00000000e+00, 0.00000000e+00,\n        0.00000000e+00, 0.00000000e+00, 0.00000000e+00, 0.00000000e+00,\n        0.00000000e+00, 1.45727274e-01],\n       [0.00000000e+00, 0.00000000e+00, 0.00000000e+00, 0.00000000e+00,\n        0.00000000e+00, 0.00000000e+00, 0.00000000e+00, 0.00000000e+00,\n        0.00000000e+00, 0.00000000e+00]])"
     },
     "execution_count": 25,
     "metadata": {},
     "output_type": "execute_result"
    }
   ],
   "source": [
    "baseline_approx = baseline_results['STI'][interaction_order]\n",
    "baseline_approx[0:10,0:10]"
   ],
   "metadata": {
    "collapsed": false,
    "pycharm": {
     "name": "#%%\n"
    }
   }
  },
  {
   "cell_type": "code",
   "execution_count": 26,
   "outputs": [
    {
     "name": "stdout",
     "output_type": "stream",
     "text": [
      "average MSE (SHAP-IQ): 0.00234061225556173\n",
      "average MSE (baseline): 0.075226097137372\n",
      "average MAE (SHAP-IQ): 0.03890075205285072\n",
      "average MAE (baseline-IQ): 0.1404959078910604\n"
     ]
    }
   ],
   "source": [
    "print(\"average MSE (SHAP-IQ):\", mse(ground_truth, shap_iq_approx))\n",
    "print(\"average MSE (baseline):\", mse(ground_truth, baseline_approx))\n",
    "print(\"average MAE (SHAP-IQ):\", mae(ground_truth, shap_iq_approx))\n",
    "print(\"average MAE (baseline-IQ):\", mae(ground_truth, baseline_approx))"
   ],
   "metadata": {
    "collapsed": false,
    "pycharm": {
     "name": "#%%\n"
    }
   }
  },
  {
   "cell_type": "markdown",
   "source": [
    "### Results for FSI"
   ],
   "metadata": {
    "collapsed": false,
    "pycharm": {
     "name": "#%% md\n"
    }
   }
  },
  {
   "cell_type": "code",
   "execution_count": 27,
   "outputs": [
    {
     "data": {
      "text/plain": "array([[0.        , 0.58783788, 0.41535807, 0.44487845, 0.35589828,\n        0.39182199, 0.39928809, 0.34674818, 0.31743008, 0.33901099],\n       [0.        , 0.        , 0.25508103, 0.41222169, 0.28599455,\n        0.27777504, 0.39528357, 0.3134065 , 0.18240645, 0.35194218],\n       [0.        , 0.        , 0.        , 0.28479718, 0.30497129,\n        0.33234033, 0.34149881, 0.31559734, 0.15211227, 0.27959836],\n       [0.        , 0.        , 0.        , 0.        , 0.23795063,\n        0.31161093, 0.3591254 , 0.39819042, 0.26742663, 0.45002624],\n       [0.        , 0.        , 0.        , 0.        , 0.        ,\n        0.23647315, 0.2935484 , 0.20702232, 0.20703851, 0.34285473],\n       [0.        , 0.        , 0.        , 0.        , 0.        ,\n        0.        , 0.25212313, 0.25734284, 0.2886504 , 0.16381003],\n       [0.        , 0.        , 0.        , 0.        , 0.        ,\n        0.        , 0.        , 0.31755982, 0.36103627, 0.32587184],\n       [0.        , 0.        , 0.        , 0.        , 0.        ,\n        0.        , 0.        , 0.        , 0.2218672 , 0.44613868],\n       [0.        , 0.        , 0.        , 0.        , 0.        ,\n        0.        , 0.        , 0.        , 0.        , 0.22533469],\n       [0.        , 0.        , 0.        , 0.        , 0.        ,\n        0.        , 0.        , 0.        , 0.        , 0.        ]])"
     },
     "execution_count": 27,
     "metadata": {},
     "output_type": "execute_result"
    }
   ],
   "source": [
    "ground_truth = ground_truth_results['FSI'][interaction_order]\n",
    "ground_truth[0:10,0:10]"
   ],
   "metadata": {
    "collapsed": false,
    "pycharm": {
     "name": "#%%\n"
    }
   }
  },
  {
   "cell_type": "code",
   "execution_count": 28,
   "outputs": [
    {
     "data": {
      "text/plain": "array([[0.        , 0.52719264, 0.38171535, 0.48494666, 0.35093591,\n        0.41711513, 0.51720815, 0.46615193, 0.48833947, 0.37168011],\n       [0.        , 0.        , 0.37884569, 0.15488513, 0.04884552,\n        0.32595457, 0.50497713, 0.31397978, 0.16980087, 0.30211813],\n       [0.        , 0.        , 0.        , 0.42111884, 0.41527104,\n        0.28706555, 0.06126737, 0.23446596, 0.25289375, 0.00808755],\n       [0.        , 0.        , 0.        , 0.        , 0.10257318,\n        0.55369743, 0.42650147, 0.57821122, 0.20276433, 0.48030049],\n       [0.        , 0.        , 0.        , 0.        , 0.        ,\n        0.57012871, 0.28763865, 0.13650743, 0.29649346, 0.17831586],\n       [0.        , 0.        , 0.        , 0.        , 0.        ,\n        0.        , 0.34387209, 0.26858226, 0.20827967, 0.19111303],\n       [0.        , 0.        , 0.        , 0.        , 0.        ,\n        0.        , 0.        , 0.15963745, 0.08708184, 0.39641345],\n       [0.        , 0.        , 0.        , 0.        , 0.        ,\n        0.        , 0.        , 0.        , 0.43304866, 0.60136425],\n       [0.        , 0.        , 0.        , 0.        , 0.        ,\n        0.        , 0.        , 0.        , 0.        , 0.25175233],\n       [0.        , 0.        , 0.        , 0.        , 0.        ,\n        0.        , 0.        , 0.        , 0.        , 0.        ]])"
     },
     "execution_count": 28,
     "metadata": {},
     "output_type": "execute_result"
    }
   ],
   "source": [
    "shap_iq_approx = shap_iq_results['FSI'][interaction_order]\n",
    "shap_iq_approx[0:10,0:10]"
   ],
   "metadata": {
    "collapsed": false,
    "pycharm": {
     "name": "#%%\n"
    }
   }
  },
  {
   "cell_type": "code",
   "execution_count": 29,
   "outputs": [
    {
     "data": {
      "text/plain": "array([[ 0.        ,  0.96057871,  0.38928932,  0.3497072 ,  0.44075145,\n         0.7909039 ,  0.40573244,  0.68927468, -0.13948704,  0.11889659],\n       [ 0.        ,  0.        ,  0.4803226 ,  0.34242715,  0.39062489,\n         0.22965734,  0.98934986,  0.38092139,  0.25894158,  0.54886865],\n       [ 0.        ,  0.        ,  0.        ,  0.25660292, -0.05825013,\n        -0.02631917, -0.16970365,  0.15707   ,  0.13217898,  0.29723115],\n       [ 0.        ,  0.        ,  0.        ,  0.        ,  0.62652127,\n         0.4640503 ,  0.68408583,  0.73809408,  0.03622637,  0.54570719],\n       [ 0.        ,  0.        ,  0.        ,  0.        ,  0.        ,\n         0.08361825,  0.06729974, -0.42904969,  0.44440527,  0.99778368],\n       [ 0.        ,  0.        ,  0.        ,  0.        ,  0.        ,\n         0.        ,  0.10151423,  0.15934159,  0.4103331 , -0.14598689],\n       [ 0.        ,  0.        ,  0.        ,  0.        ,  0.        ,\n         0.        ,  0.        ,  0.11811955,  0.4935602 ,  0.46546227],\n       [ 0.        ,  0.        ,  0.        ,  0.        ,  0.        ,\n         0.        ,  0.        ,  0.        ,  0.2519633 ,  0.47528263],\n       [ 0.        ,  0.        ,  0.        ,  0.        ,  0.        ,\n         0.        ,  0.        ,  0.        ,  0.        , -0.53939075],\n       [ 0.        ,  0.        ,  0.        ,  0.        ,  0.        ,\n         0.        ,  0.        ,  0.        ,  0.        ,  0.        ]])"
     },
     "execution_count": 29,
     "metadata": {},
     "output_type": "execute_result"
    }
   ],
   "source": [
    "baseline_approx = baseline_results['FSI'][interaction_order]\n",
    "baseline_approx[0:10,0:10]"
   ],
   "metadata": {
    "collapsed": false,
    "pycharm": {
     "name": "#%%\n"
    }
   }
  },
  {
   "cell_type": "code",
   "execution_count": 30,
   "outputs": [
    {
     "name": "stdout",
     "output_type": "stream",
     "text": [
      "average MSE (SHAP-IQ): 0.012294752408365191\n",
      "average MSE (baseline): 0.10143086426647954\n",
      "average MAE (SHAP-IQ): 0.08697834994125356\n",
      "average MAE (baseline-IQ): 0.2514210905402107\n"
     ]
    }
   ],
   "source": [
    "print(\"average MSE (SHAP-IQ):\", mse(ground_truth, shap_iq_approx))\n",
    "print(\"average MSE (baseline):\", mse(ground_truth, baseline_approx))\n",
    "print(\"average MAE (SHAP-IQ):\", mae(ground_truth, shap_iq_approx))\n",
    "print(\"average MAE (baseline-IQ):\", mae(ground_truth, baseline_approx))"
   ],
   "metadata": {
    "collapsed": false,
    "pycharm": {
     "name": "#%%\n"
    }
   }
  }
 ],
 "metadata": {
  "kernelspec": {
   "display_name": "Python 3",
   "language": "python",
   "name": "python3"
  },
  "language_info": {
   "codemirror_mode": {
    "name": "ipython",
    "version": 2
   },
   "file_extension": ".py",
   "mimetype": "text/x-python",
   "name": "python",
   "nbconvert_exporter": "python",
   "pygments_lexer": "ipython2",
   "version": "2.7.6"
  }
 },
 "nbformat": 4,
 "nbformat_minor": 0
}